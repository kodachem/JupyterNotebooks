{
 "cells": [
  {
   "cell_type": "markdown",
   "metadata": {},
   "source": [
    "## import"
   ]
  },
  {
   "cell_type": "code",
   "execution_count": null,
   "metadata": {},
   "outputs": [],
   "source": [
    "import numpy as np\n",
    "from numpy import sin, cos, pi"
   ]
  },
  {
   "cell_type": "markdown",
   "metadata": {},
   "source": [
    "## Define functions"
   ]
  },
  {
   "cell_type": "code",
   "execution_count": 17,
   "metadata": {},
   "outputs": [],
   "source": [
    "def Rz(a):\n",
    "    rot = np.array([[cos(a), -sin(a), 0,],\n",
    "                    [sin(a),  cos(a),  0],\n",
    "                    [     0,       0,  1],])\n",
    "    return rot\n",
    "\n",
    "def Ry(a):\n",
    "    rot = np.array([[ cos(a), 0, sin(a)],\n",
    "                    [      0, 1,      0],\n",
    "                    [-sin(a), 0, cos(a)],])\n",
    "    return rot\n",
    "\n",
    "def Rx(a):\n",
    "    rot = np.array([[1,      0,      0],\n",
    "                    [0, cos(a),-sin(a)],\n",
    "                    [0, sin(a), cos(a)],])\n",
    "    return rot\n",
    "\n",
    "def Rzyx(roll,pitch,yow):\n",
    "    return Rz(yow) @ Ry(pitch) @ Rx(roll)\n",
    "\n",
    "def Lmat(val0, val1, val2):\n",
    "    L = np.diag([val0, val1, val2])\n",
    "    return L"
   ]
  },
  {
   "cell_type": "markdown",
   "metadata": {},
   "source": [
    "## User settings\n",
    "Specify three eigenvalues"
   ]
  },
  {
   "cell_type": "code",
   "execution_count": 18,
   "metadata": {},
   "outputs": [],
   "source": [
    "v0, v1, v2 = 0, 1, 2"
   ]
  },
  {
   "cell_type": "markdown",
   "metadata": {},
   "source": [
    "## Main"
   ]
  },
  {
   "cell_type": "code",
   "execution_count": 20,
   "metadata": {},
   "outputs": [
    {
     "name": "stdout",
     "output_type": "stream",
     "text": [
      "Target eigenvalues are 0.000000, 1.000000, 2.000000\n",
      "\n",
      "0 th trial\n",
      "angle/radian: roll= 1.374613, pitch=0.481061, yow=5.735627\n",
      "Matrix\n",
      "[[ 0.64121853 -0.77243495  0.24823651]\n",
      " [-0.77243495  1.51693639  0.36227435]\n",
      " [ 0.24823651  0.36227435  0.84184507]]\n",
      "Check eigenvalues of A below\n",
      "[0. 1. 2.]\n",
      "\n",
      "1 th trial\n",
      "angle/radian: roll= 1.544729, pitch=4.628659, yow=4.683226\n",
      "Matrix\n",
      "[[ 1.99299967e+00 -8.34454887e-02  2.62712130e-04]\n",
      " [-8.34454887e-02  1.00395354e+00  5.51991374e-02]\n",
      " [ 2.62712130e-04  5.51991374e-02  3.04679316e-03]]\n",
      "Check eigenvalues of A below\n",
      "[-0.  1.  2.]\n",
      "\n",
      "2 th trial\n",
      "angle/radian: roll= 1.169842, pitch=4.890705, yow=3.023256\n",
      "Matrix\n",
      "[[ 1.93751677  0.31107433  0.15445569]\n",
      " [ 0.31107433  0.29790761 -0.40709725]\n",
      " [ 0.15445569 -0.40709725  0.76457562]]\n",
      "Check eigenvalues of A below\n",
      "[-0.  1.  2.]\n",
      "\n",
      "3 th trial\n",
      "angle/radian: roll= 0.529708, pitch=1.836064, yow=4.321350\n",
      "Matrix\n",
      "[[1.92128312 0.06668478 0.2967215 ]\n",
      " [0.06668478 0.6430502  0.51008389]\n",
      " [0.2967215  0.51008389 0.43566668]]\n",
      "Check eigenvalues of A below\n",
      "[-0.  1.  2.]\n",
      "\n",
      "4 th trial\n",
      "angle/radian: roll= 3.601923, pitch=2.753803, yow=1.199751\n",
      "Matrix\n",
      "[[ 1.03032002  0.10430094 -0.49382766]\n",
      " [ 0.10430094  0.57001385  0.75662762]\n",
      " [-0.49382766  0.75662762  1.39966613]]\n",
      "Check eigenvalues of A below\n",
      "[-0.  1.  2.]\n",
      "\n",
      "5 th trial\n",
      "angle/radian: roll= 5.733256, pitch=2.267143, yow=0.210552\n",
      "Matrix\n",
      "[[ 1.19513394 -0.61489292  0.75223557]\n",
      " [-0.61489292  0.78714997  0.11916465]\n",
      " [ 0.75223557  0.11916465  1.0177161 ]]\n",
      "Check eigenvalues of A below\n",
      "[0. 1. 2.]\n",
      "\n",
      "6 th trial\n",
      "angle/radian: roll= 4.879724, pitch=3.550722, yow=3.551696\n",
      "Matrix\n",
      "[[ 0.4503144   0.60667819 -0.44269507]\n",
      " [ 0.60667819  1.73235885 -0.00510088]\n",
      " [-0.44269507 -0.00510088  0.81732674]]\n",
      "Check eigenvalues of A below\n",
      "[0. 1. 2.]\n",
      "\n",
      "7 th trial\n",
      "angle/radian: roll= 0.354744, pitch=0.527424, yow=5.941822\n",
      "Matrix\n",
      "[[ 0.59032142 -0.54081822 -0.67527555]\n",
      " [-0.54081822  0.86096924  0.08599166]\n",
      " [-0.67527555  0.08599166  1.54870934]]\n",
      "Check eigenvalues of A below\n",
      "[-0.  1.  2.]\n",
      "\n",
      "8 th trial\n",
      "angle/radian: roll= 0.246115, pitch=5.643637, yow=0.418039\n",
      "Matrix\n",
      "[[ 0.81852287  0.50283181  0.77982195]\n",
      " [ 0.50283181  0.76088074 -0.07437235]\n",
      " [ 0.77982195 -0.07437235  1.42059639]]\n",
      "Check eigenvalues of A below\n",
      "[-0.  1.  2.]\n",
      "\n",
      "9 th trial\n",
      "angle/radian: roll= 1.926060, pitch=5.949341, yow=1.450288\n",
      "Matrix\n",
      "[[ 1.09447249  0.25522841 -0.21495671]\n",
      " [ 0.25522841  1.68952709 -0.58235563]\n",
      " [-0.21495671 -0.58235563  0.21600042]]\n",
      "Check eigenvalues of A below\n",
      "[-0.  1.  2.]\n"
     ]
    }
   ],
   "source": [
    "L = Lmat(v0, v1, v2)\n",
    "print(\"Target eigenvalues are %f, %f, %f\" % (v0, v1, v2))\n",
    "\n",
    "for i in range(0,10):\n",
    "    print(\"\\n%i th trial\" % i)    \n",
    "    \n",
    "    angles = 2 * pi * np.random.rand(3)\n",
    "    r = angles[0]\n",
    "    p = angles[1]\n",
    "    y = angles[2]\n",
    "    R = Rzyx(r,p,y)\n",
    "    print(\"angle/radian: roll= %f, pitch=%f, yow=%f\" % (r,p,y))\n",
    "    \n",
    "    A = np.linalg.inv(R) @ L @ R\n",
    "    print(\"Matrix\")\n",
    "    print(A)\n",
    "    \n",
    "    eigvals, _ = np.linalg.eigh(A)\n",
    "    print(\"Check eigenvalues of A below\")\n",
    "    print(np.round(eigvals,0))"
   ]
  }
 ],
 "metadata": {
  "kernelspec": {
   "display_name": "Python 3",
   "language": "python",
   "name": "python3"
  },
  "language_info": {
   "codemirror_mode": {
    "name": "ipython",
    "version": 3
   },
   "file_extension": ".py",
   "mimetype": "text/x-python",
   "name": "python",
   "nbconvert_exporter": "python",
   "pygments_lexer": "ipython3",
   "version": "3.7.1"
  }
 },
 "nbformat": 4,
 "nbformat_minor": 2
}
