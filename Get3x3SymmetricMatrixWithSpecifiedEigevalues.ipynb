{
 "cells": [
  {
   "cell_type": "markdown",
   "metadata": {},
   "source": [
    "# About this notebook\n",
    "- 任意の0以上の固有値を持つ、3次の実対称行列をいくつか生成するプログラム。\n",
    "- 行列のスペクトル分解に基づいている。(例えば[このノート](http://www.math.s.chiba-u.ac.jp/~nagisa/lecture04/fa3.pdf)参照)。\n",
    "- ここでは実対称行列を生成しているが、エルミート行列にも拡張可能（なはず）。"
   ]
  },
  {
   "cell_type": "markdown",
   "metadata": {},
   "source": [
    "## Import\n",
    "numpyモジュールと、このノートブックでよく使う関数のインポート"
   ]
  },
  {
   "cell_type": "code",
   "execution_count": 33,
   "metadata": {},
   "outputs": [],
   "source": [
    "import numpy as np\n",
    "from numpy import sin, cos, pi"
   ]
  },
  {
   "cell_type": "markdown",
   "metadata": {},
   "source": [
    "## Define functions\n",
    "ロール・ピッチ・ヨー回転行列の定義"
   ]
  },
  {
   "cell_type": "code",
   "execution_count": 41,
   "metadata": {},
   "outputs": [],
   "source": [
    "def _Rz(a):\n",
    "    \"\"\"Rotation matrix along z axis.\"\"\"\n",
    "    rot = np.array([[cos(a), -sin(a), 0,],\n",
    "                    [sin(a),  cos(a),  0],\n",
    "                    [     0,       0,  1],])\n",
    "    return rot\n",
    "\n",
    "def _Ry(a):\n",
    "    \"\"\"Rotation matrix along y axis.\"\"\"\n",
    "    rot = np.array([[ cos(a), 0, sin(a)],\n",
    "                    [      0, 1,      0],\n",
    "                    [-sin(a), 0, cos(a)],])\n",
    "    return rot\n",
    "\n",
    "def _Rx(a):\n",
    "    \"\"\"Rotation matrix along x axis.\"\"\"\n",
    "    rot = np.array([[1,      0,      0],\n",
    "                    [0, cos(a),-sin(a)],\n",
    "                    [0, sin(a), cos(a)],])\n",
    "    return rot\n",
    "\n",
    "def Rzyx(roll,pitch,yow):\n",
    "    \"\"\"Roll-pitch-yow rotation matrix.\n",
    "    \n",
    "    https://watako-lab.com/2019/01/23/roll_pitch_yaw/\n",
    "    \"\"\"\n",
    "    return _Rz(yow) @ _Ry(pitch) @ _Rx(roll)"
   ]
  },
  {
   "cell_type": "markdown",
   "metadata": {},
   "source": [
    "## User settings\n",
    "3つの固有値を定義する (値はゼロ以上とすること。実対称行列の固有値はゼロ以上だから。)"
   ]
  },
  {
   "cell_type": "code",
   "execution_count": 35,
   "metadata": {},
   "outputs": [],
   "source": [
    "v0, v1, v2 = 0, 1, 2"
   ]
  },
  {
   "cell_type": "markdown",
   "metadata": {},
   "source": [
    "## Main"
   ]
  },
  {
   "cell_type": "code",
   "execution_count": 36,
   "metadata": {},
   "outputs": [
    {
     "name": "stdout",
     "output_type": "stream",
     "text": [
      "Target eigenvalues are 0.000000, 1.000000, 2.000000\n"
     ]
    }
   ],
   "source": [
    "print(\"Target eigenvalues are %f, %f, %f\" % (v0, v1, v2))"
   ]
  },
  {
   "cell_type": "code",
   "execution_count": 39,
   "metadata": {},
   "outputs": [
    {
     "name": "stdout",
     "output_type": "stream",
     "text": [
      "Matrix A\n",
      "[[0 0 0]\n",
      " [0 1 0]\n",
      " [0 0 2]]\n",
      "Check eigenvalues of A\n",
      "[0. 1. 2.]\n"
     ]
    }
   ],
   "source": [
    "###############################\n",
    "## Non-rotation case\n",
    "###############################\n",
    "# define orthonormal basis sets\n",
    "e0 = np.array([1,0,0])\n",
    "e1 = np.array([0,1,0])\n",
    "e2 = np.array([0,0,1])\n",
    "\n",
    "# obtain real symmetric matrix based on spectral decomposition\n",
    "A = v0 * np.outer(e0, e0) + v1 * np.outer(e1, e1) + v2 * np.outer(e2, e2)\n",
    "print(\"Matrix A\")\n",
    "print(A)\n",
    "\n",
    "# diagonalize A for confirmation\n",
    "eigvals, _ = np.linalg.eigh(A)\n",
    "print(\"Check eigenvalues of A\")\n",
    "print(eigvals)"
   ]
  },
  {
   "cell_type": "code",
   "execution_count": 40,
   "metadata": {},
   "outputs": [
    {
     "name": "stdout",
     "output_type": "stream",
     "text": [
      "\n",
      "0 th trial\n",
      "angle/radian: roll= 2.550307, pitch=3.535900, yow=4.310497\n",
      "Matrix A\n",
      "[[ 1.27633002 -0.25871801 -0.6276033 ]\n",
      " [-0.25871801  0.28370895 -0.38429241]\n",
      " [-0.6276033  -0.38429241  1.43996103]]\n",
      "Check eigenvalues of A\n",
      "[-0.  1.  2.]\n",
      "\n",
      "1 th trial\n",
      "angle/radian: roll= 4.577157, pitch=2.489039, yow=4.384429\n",
      "Matrix A\n",
      "[[ 1.0565497  -0.76939619 -0.02071878]\n",
      " [-0.76939619  1.01629278 -0.63499257]\n",
      " [-0.02071878 -0.63499257  0.92715752]]\n",
      "Check eigenvalues of A\n",
      "[-0.  1.  2.]\n",
      "\n",
      "2 th trial\n",
      "angle/radian: roll= 0.294251, pitch=4.389186, yow=6.206835\n",
      "Matrix A\n",
      "[[ 0.59666477  0.76780879  0.01031123]\n",
      " [ 0.76780879  1.24829196 -0.53495797]\n",
      " [ 0.01031123 -0.53495797  1.15504327]]\n",
      "Check eigenvalues of A\n",
      "[-0.  1.  2.]\n",
      "\n",
      "3 th trial\n",
      "angle/radian: roll= 3.483982, pitch=5.946035, yow=3.223795\n",
      "Matrix A\n",
      "[[ 0.884544   -0.60892287  0.23059646]\n",
      " [-0.60892287  1.4805011   0.62233717]\n",
      " [ 0.23059646  0.62233717  0.6349549 ]]\n",
      "Check eigenvalues of A\n",
      "[0. 1. 2.]\n",
      "\n",
      "4 th trial\n",
      "angle/radian: roll= 2.076405, pitch=5.030494, yow=5.354591\n",
      "Matrix A\n",
      "[[ 1.94065097 -0.09208966  0.23196329]\n",
      " [-0.09208966  0.57038726 -0.5219548 ]\n",
      " [ 0.23196329 -0.5219548   0.48896176]]\n",
      "Check eigenvalues of A\n",
      "[0. 1. 2.]\n",
      "\n",
      "5 th trial\n",
      "angle/radian: roll= 5.036290, pitch=3.260267, yow=3.292737\n",
      "Matrix A\n",
      "[[ 1.99338767  0.04022731 -0.08637331]\n",
      " [ 0.04022731  0.15248436  0.35739499]\n",
      " [-0.08637331  0.35739499  0.85412797]]\n",
      "Check eigenvalues of A\n",
      "[-0.  1.  2.]\n",
      "\n",
      "6 th trial\n",
      "angle/radian: roll= 4.900209, pitch=3.860392, yow=1.302726\n",
      "Matrix A\n",
      "[[ 0.87183811 -0.13142414 -0.35636801]\n",
      " [-0.13142414  1.18272136 -0.91067826]\n",
      " [-0.35636801 -0.91067826  0.94544053]]\n",
      "Check eigenvalues of A\n",
      "[-0.  1.  2.]\n",
      "\n",
      "7 th trial\n",
      "angle/radian: roll= 5.915437, pitch=4.557385, yow=3.258273\n",
      "Matrix A\n",
      "[[ 1.28886401  0.87218675 -0.3934845 ]\n",
      " [ 0.87218675  0.73521631  0.08598773]\n",
      " [-0.3934845   0.08598773  0.97591968]]\n",
      "Check eigenvalues of A\n",
      "[0. 1. 2.]\n",
      "\n",
      "8 th trial\n",
      "angle/radian: roll= 0.437335, pitch=4.831764, yow=2.114452\n",
      "Matrix A\n",
      "[[ 0.92289306 -0.19735707 -0.82043118]\n",
      " [-0.19735707  0.78929708 -0.4704838 ]\n",
      " [-0.82043118 -0.4704838   1.28780986]]\n",
      "Check eigenvalues of A\n",
      "[0. 1. 2.]\n",
      "\n",
      "9 th trial\n",
      "angle/radian: roll= 2.539830, pitch=2.729393, yow=1.857562\n",
      "Matrix A\n",
      "[[0.22016038 0.43359109 0.25542323]\n",
      " [0.43359109 0.90159546 0.22843969]\n",
      " [0.25542323 0.22843969 1.87824416]]\n",
      "Check eigenvalues of A\n",
      "[-0.  1.  2.]\n"
     ]
    }
   ],
   "source": [
    "#######################\n",
    "## Rotate basis sets\n",
    "#######################\n",
    "for i in range(0,10):\n",
    "    print(\"\\n%i th trial\" % i)    \n",
    "    \n",
    "    # choose roll-pitch-yow angles randomly, and define rotation matrix\n",
    "    angles = 2 * pi * np.random.rand(3)\n",
    "    r = angles[0]\n",
    "    p = angles[1]\n",
    "    y = angles[2]\n",
    "    R = Rzyx(r,p,y)\n",
    "    print(\"angle/radian: roll= %f, pitch=%f, yow=%f\" % (r,p,y))\n",
    "        \n",
    "    # basis set vectors after rotation\n",
    "    e0 = np.dot(R, e0)\n",
    "    e1 = np.dot(R, e1)\n",
    "    e2 = np.dot(R, e2)\n",
    "\n",
    "    # obtain real symmetric matrix based on spectral decomposition\n",
    "    A = v0 * np.outer(e0, e0) + v1 * np.outer(e1, e1) + v2 * np.outer(e2, e2)\n",
    "    print(\"Matrix A\")\n",
    "    print(A)\n",
    "    \n",
    "    # diagonalize A for confirmation\n",
    "    eigvals, _ = np.linalg.eigh(A)\n",
    "    print(\"Check eigenvalues of A\")\n",
    "    print(np.round(eigvals,0))"
   ]
  }
 ],
 "metadata": {
  "kernelspec": {
   "display_name": "Python 3",
   "language": "python",
   "name": "python3"
  },
  "language_info": {
   "codemirror_mode": {
    "name": "ipython",
    "version": 3
   },
   "file_extension": ".py",
   "mimetype": "text/x-python",
   "name": "python",
   "nbconvert_exporter": "python",
   "pygments_lexer": "ipython3",
   "version": "3.7.1"
  }
 },
 "nbformat": 4,
 "nbformat_minor": 2
}
